{
 "cells": [
  {
   "cell_type": "code",
   "execution_count": 1,
   "id": "c153ae49",
   "metadata": {
    "_cell_guid": "b1076dfc-b9ad-4769-8c92-a6c4dae69d19",
    "_uuid": "8f2839f25d086af736a60e9eeb907d3b93b6e0e5",
    "execution": {
     "iopub.execute_input": "2024-03-05T17:12:45.246521Z",
     "iopub.status.busy": "2024-03-05T17:12:45.246111Z",
     "iopub.status.idle": "2024-03-05T17:12:46.275928Z",
     "shell.execute_reply": "2024-03-05T17:12:46.274878Z"
    },
    "papermill": {
     "duration": 1.03858,
     "end_time": "2024-03-05T17:12:46.278770",
     "exception": false,
     "start_time": "2024-03-05T17:12:45.240190",
     "status": "completed"
    },
    "tags": []
   },
   "outputs": [
    {
     "name": "stdout",
     "output_type": "stream",
     "text": [
      "/kaggle/input/risk-factor-prediction-of-chronic-kidney/ckd-dataset-v2.csv\n"
     ]
    }
   ],
   "source": [
    "# This Python 3 environment comes with many helpful analytics libraries installed\n",
    "# It is defined by the kaggle/python Docker image: https://github.com/kaggle/docker-python\n",
    "# For example, here's several helpful packages to load\n",
    "\n",
    "import numpy as np # linear algebra\n",
    "import pandas as pd # data processing, CSV file I/O (e.g. pd.read_csv)\n",
    "\n",
    "# Input data files are available in the read-only \"../input/\" directory\n",
    "# For example, running this (by clicking run or pressing Shift+Enter) will list all files under the input directory\n",
    "\n",
    "import os\n",
    "for dirname, _, filenames in os.walk('/kaggle/input'):\n",
    "    for filename in filenames:\n",
    "        print(os.path.join(dirname, filename))\n",
    "\n",
    "# You can write up to 20GB to the current directory (/kaggle/working/) that gets preserved as output when you create a version using \"Save & Run All\" \n",
    "# You can also write temporary files to /kaggle/temp/, but they won't be saved outside of the current session"
   ]
  },
  {
   "cell_type": "code",
   "execution_count": 2,
   "id": "b432fb9f",
   "metadata": {
    "execution": {
     "iopub.execute_input": "2024-03-05T17:12:46.288293Z",
     "iopub.status.busy": "2024-03-05T17:12:46.287697Z",
     "iopub.status.idle": "2024-03-05T17:12:48.971637Z",
     "shell.execute_reply": "2024-03-05T17:12:48.970355Z"
    },
    "papermill": {
     "duration": 2.691935,
     "end_time": "2024-03-05T17:12:48.974337",
     "exception": false,
     "start_time": "2024-03-05T17:12:46.282402",
     "status": "completed"
    },
    "tags": []
   },
   "outputs": [],
   "source": [
    "# Step 1: Import necessary libraries\n",
    "import pandas as pd\n",
    "import numpy as np\n",
    "import matplotlib.pyplot as plt\n",
    "import seaborn as sns\n",
    "from sklearn.model_selection import train_test_split\n",
    "from sklearn.preprocessing import StandardScaler\n",
    "from sklearn.ensemble import RandomForestClassifier\n",
    "from sklearn.metrics import accuracy_score, classification_report, confusion_matrix"
   ]
  },
  {
   "cell_type": "code",
   "execution_count": 3,
   "id": "a9cbc4ca",
   "metadata": {
    "execution": {
     "iopub.execute_input": "2024-03-05T17:12:48.983971Z",
     "iopub.status.busy": "2024-03-05T17:12:48.983160Z",
     "iopub.status.idle": "2024-03-05T17:12:49.009790Z",
     "shell.execute_reply": "2024-03-05T17:12:49.008508Z"
    },
    "papermill": {
     "duration": 0.034435,
     "end_time": "2024-03-05T17:12:49.012626",
     "exception": false,
     "start_time": "2024-03-05T17:12:48.978191",
     "status": "completed"
    },
    "tags": []
   },
   "outputs": [],
   "source": [
    "# Step 2: Load the dataset\n",
    "url = \"/kaggle/input/risk-factor-prediction-of-chronic-kidney/ckd-dataset-v2.csv\"\n",
    "df = pd.read_csv(url)"
   ]
  },
  {
   "cell_type": "code",
   "execution_count": 4,
   "id": "8dad9cba",
   "metadata": {
    "execution": {
     "iopub.execute_input": "2024-03-05T17:12:49.023179Z",
     "iopub.status.busy": "2024-03-05T17:12:49.021902Z",
     "iopub.status.idle": "2024-03-05T17:12:49.061564Z",
     "shell.execute_reply": "2024-03-05T17:12:49.060442Z"
    },
    "papermill": {
     "duration": 0.047963,
     "end_time": "2024-03-05T17:12:49.064610",
     "exception": false,
     "start_time": "2024-03-05T17:12:49.016647",
     "status": "completed"
    },
    "tags": []
   },
   "outputs": [
    {
     "data": {
      "text/html": [
       "<div>\n",
       "<style scoped>\n",
       "    .dataframe tbody tr th:only-of-type {\n",
       "        vertical-align: middle;\n",
       "    }\n",
       "\n",
       "    .dataframe tbody tr th {\n",
       "        vertical-align: top;\n",
       "    }\n",
       "\n",
       "    .dataframe thead th {\n",
       "        text-align: right;\n",
       "    }\n",
       "</style>\n",
       "<table border=\"1\" class=\"dataframe\">\n",
       "  <thead>\n",
       "    <tr style=\"text-align: right;\">\n",
       "      <th></th>\n",
       "      <th>bp (Diastolic)</th>\n",
       "      <th>bp limit</th>\n",
       "      <th>sg</th>\n",
       "      <th>al</th>\n",
       "      <th>class</th>\n",
       "      <th>rbc</th>\n",
       "      <th>su</th>\n",
       "      <th>pc</th>\n",
       "      <th>pcc</th>\n",
       "      <th>ba</th>\n",
       "      <th>...</th>\n",
       "      <th>htn</th>\n",
       "      <th>dm</th>\n",
       "      <th>cad</th>\n",
       "      <th>appet</th>\n",
       "      <th>pe</th>\n",
       "      <th>ane</th>\n",
       "      <th>grf</th>\n",
       "      <th>stage</th>\n",
       "      <th>affected</th>\n",
       "      <th>age</th>\n",
       "    </tr>\n",
       "  </thead>\n",
       "  <tbody>\n",
       "    <tr>\n",
       "      <th>0</th>\n",
       "      <td>discrete</td>\n",
       "      <td>discrete</td>\n",
       "      <td>discrete</td>\n",
       "      <td>discrete</td>\n",
       "      <td>discrete</td>\n",
       "      <td>discrete</td>\n",
       "      <td>discrete</td>\n",
       "      <td>discrete</td>\n",
       "      <td>discrete</td>\n",
       "      <td>discrete</td>\n",
       "      <td>...</td>\n",
       "      <td>discrete</td>\n",
       "      <td>discrete</td>\n",
       "      <td>discrete</td>\n",
       "      <td>discrete</td>\n",
       "      <td>discrete</td>\n",
       "      <td>discrete</td>\n",
       "      <td>discrete</td>\n",
       "      <td>discrete</td>\n",
       "      <td>discrete</td>\n",
       "      <td>discrete</td>\n",
       "    </tr>\n",
       "    <tr>\n",
       "      <th>1</th>\n",
       "      <td>NaN</td>\n",
       "      <td>NaN</td>\n",
       "      <td>NaN</td>\n",
       "      <td>NaN</td>\n",
       "      <td>NaN</td>\n",
       "      <td>NaN</td>\n",
       "      <td>NaN</td>\n",
       "      <td>NaN</td>\n",
       "      <td>NaN</td>\n",
       "      <td>NaN</td>\n",
       "      <td>...</td>\n",
       "      <td>NaN</td>\n",
       "      <td>NaN</td>\n",
       "      <td>NaN</td>\n",
       "      <td>NaN</td>\n",
       "      <td>NaN</td>\n",
       "      <td>NaN</td>\n",
       "      <td>NaN</td>\n",
       "      <td>NaN</td>\n",
       "      <td>class</td>\n",
       "      <td>meta</td>\n",
       "    </tr>\n",
       "    <tr>\n",
       "      <th>2</th>\n",
       "      <td>0</td>\n",
       "      <td>0</td>\n",
       "      <td>1.019 - 1.021</td>\n",
       "      <td>1 - 1</td>\n",
       "      <td>ckd</td>\n",
       "      <td>0</td>\n",
       "      <td>&lt; 0</td>\n",
       "      <td>0</td>\n",
       "      <td>0</td>\n",
       "      <td>0</td>\n",
       "      <td>...</td>\n",
       "      <td>0</td>\n",
       "      <td>0</td>\n",
       "      <td>0</td>\n",
       "      <td>0</td>\n",
       "      <td>0</td>\n",
       "      <td>0</td>\n",
       "      <td>≥ 227.944</td>\n",
       "      <td>s1</td>\n",
       "      <td>1</td>\n",
       "      <td>&lt; 12</td>\n",
       "    </tr>\n",
       "    <tr>\n",
       "      <th>3</th>\n",
       "      <td>0</td>\n",
       "      <td>0</td>\n",
       "      <td>1.009 - 1.011</td>\n",
       "      <td>&lt; 0</td>\n",
       "      <td>ckd</td>\n",
       "      <td>0</td>\n",
       "      <td>&lt; 0</td>\n",
       "      <td>0</td>\n",
       "      <td>0</td>\n",
       "      <td>0</td>\n",
       "      <td>...</td>\n",
       "      <td>0</td>\n",
       "      <td>0</td>\n",
       "      <td>0</td>\n",
       "      <td>0</td>\n",
       "      <td>0</td>\n",
       "      <td>0</td>\n",
       "      <td>≥ 227.944</td>\n",
       "      <td>s1</td>\n",
       "      <td>1</td>\n",
       "      <td>&lt; 12</td>\n",
       "    </tr>\n",
       "    <tr>\n",
       "      <th>4</th>\n",
       "      <td>0</td>\n",
       "      <td>0</td>\n",
       "      <td>1.009 - 1.011</td>\n",
       "      <td>≥ 4</td>\n",
       "      <td>ckd</td>\n",
       "      <td>1</td>\n",
       "      <td>&lt; 0</td>\n",
       "      <td>1</td>\n",
       "      <td>0</td>\n",
       "      <td>1</td>\n",
       "      <td>...</td>\n",
       "      <td>0</td>\n",
       "      <td>0</td>\n",
       "      <td>0</td>\n",
       "      <td>1</td>\n",
       "      <td>0</td>\n",
       "      <td>0</td>\n",
       "      <td>127.281 - 152.446</td>\n",
       "      <td>s1</td>\n",
       "      <td>1</td>\n",
       "      <td>&lt; 12</td>\n",
       "    </tr>\n",
       "  </tbody>\n",
       "</table>\n",
       "<p>5 rows × 29 columns</p>\n",
       "</div>"
      ],
      "text/plain": [
       "  bp (Diastolic)  bp limit             sg        al     class       rbc  \\\n",
       "0       discrete  discrete       discrete  discrete  discrete  discrete   \n",
       "1            NaN       NaN            NaN       NaN       NaN       NaN   \n",
       "2              0         0  1.019 - 1.021     1 - 1       ckd         0   \n",
       "3              0         0  1.009 - 1.011       < 0       ckd         0   \n",
       "4              0         0  1.009 - 1.011       ≥ 4       ckd         1   \n",
       "\n",
       "         su        pc       pcc        ba  ...       htn        dm       cad  \\\n",
       "0  discrete  discrete  discrete  discrete  ...  discrete  discrete  discrete   \n",
       "1       NaN       NaN       NaN       NaN  ...       NaN       NaN       NaN   \n",
       "2       < 0         0         0         0  ...         0         0         0   \n",
       "3       < 0         0         0         0  ...         0         0         0   \n",
       "4       < 0         1         0         1  ...         0         0         0   \n",
       "\n",
       "      appet        pe       ane                grf     stage  affected  \\\n",
       "0  discrete  discrete  discrete           discrete  discrete  discrete   \n",
       "1       NaN       NaN       NaN                NaN       NaN     class   \n",
       "2         0         0         0          ≥ 227.944        s1         1   \n",
       "3         0         0         0          ≥ 227.944        s1         1   \n",
       "4         1         0         0  127.281 - 152.446        s1         1   \n",
       "\n",
       "        age  \n",
       "0  discrete  \n",
       "1      meta  \n",
       "2      < 12  \n",
       "3      < 12  \n",
       "4      < 12  \n",
       "\n",
       "[5 rows x 29 columns]"
      ]
     },
     "execution_count": 4,
     "metadata": {},
     "output_type": "execute_result"
    }
   ],
   "source": [
    "df.head()"
   ]
  },
  {
   "cell_type": "code",
   "execution_count": 5,
   "id": "fb4da8cd",
   "metadata": {
    "execution": {
     "iopub.execute_input": "2024-03-05T17:12:49.074839Z",
     "iopub.status.busy": "2024-03-05T17:12:49.074408Z",
     "iopub.status.idle": "2024-03-05T17:12:49.112681Z",
     "shell.execute_reply": "2024-03-05T17:12:49.110475Z"
    },
    "papermill": {
     "duration": 0.047137,
     "end_time": "2024-03-05T17:12:49.115790",
     "exception": false,
     "start_time": "2024-03-05T17:12:49.068653",
     "status": "completed"
    },
    "tags": []
   },
   "outputs": [
    {
     "name": "stdout",
     "output_type": "stream",
     "text": [
      "<class 'pandas.core.frame.DataFrame'>\n",
      "RangeIndex: 202 entries, 0 to 201\n",
      "Data columns (total 29 columns):\n",
      " #   Column          Non-Null Count  Dtype \n",
      "---  ------          --------------  ----- \n",
      " 0   bp (Diastolic)  201 non-null    object\n",
      " 1   bp limit        201 non-null    object\n",
      " 2   sg              201 non-null    object\n",
      " 3   al              201 non-null    object\n",
      " 4   class           201 non-null    object\n",
      " 5   rbc             201 non-null    object\n",
      " 6   su              201 non-null    object\n",
      " 7   pc              201 non-null    object\n",
      " 8   pcc             201 non-null    object\n",
      " 9   ba              201 non-null    object\n",
      " 10  bgr             201 non-null    object\n",
      " 11  bu              201 non-null    object\n",
      " 12  sod             201 non-null    object\n",
      " 13  sc              201 non-null    object\n",
      " 14  pot             201 non-null    object\n",
      " 15  hemo            201 non-null    object\n",
      " 16  pcv             201 non-null    object\n",
      " 17  rbcc            201 non-null    object\n",
      " 18  wbcc            201 non-null    object\n",
      " 19  htn             201 non-null    object\n",
      " 20  dm              201 non-null    object\n",
      " 21  cad             201 non-null    object\n",
      " 22  appet           201 non-null    object\n",
      " 23  pe              201 non-null    object\n",
      " 24  ane             201 non-null    object\n",
      " 25  grf             201 non-null    object\n",
      " 26  stage           201 non-null    object\n",
      " 27  affected        202 non-null    object\n",
      " 28  age             202 non-null    object\n",
      "dtypes: object(29)\n",
      "memory usage: 45.9+ KB\n"
     ]
    }
   ],
   "source": [
    "df.info()"
   ]
  },
  {
   "cell_type": "code",
   "execution_count": 6,
   "id": "3c140862",
   "metadata": {
    "execution": {
     "iopub.execute_input": "2024-03-05T17:12:49.126637Z",
     "iopub.status.busy": "2024-03-05T17:12:49.125574Z",
     "iopub.status.idle": "2024-03-05T17:12:49.135976Z",
     "shell.execute_reply": "2024-03-05T17:12:49.134505Z"
    },
    "papermill": {
     "duration": 0.020231,
     "end_time": "2024-03-05T17:12:49.139855",
     "exception": false,
     "start_time": "2024-03-05T17:12:49.119624",
     "status": "completed"
    },
    "tags": []
   },
   "outputs": [
    {
     "name": "stdout",
     "output_type": "stream",
     "text": [
      "Missing values per attribute:\n",
      "bp (Diastolic)    1\n",
      "bp limit          1\n",
      "sg                1\n",
      "al                1\n",
      "class             1\n",
      "rbc               1\n",
      "su                1\n",
      "pc                1\n",
      "pcc               1\n",
      "ba                1\n",
      "bgr               1\n",
      "bu                1\n",
      "sod               1\n",
      "sc                1\n",
      "pot               1\n",
      "hemo              1\n",
      "pcv               1\n",
      "rbcc              1\n",
      "wbcc              1\n",
      "htn               1\n",
      "dm                1\n",
      "cad               1\n",
      "appet             1\n",
      "pe                1\n",
      "ane               1\n",
      "grf               1\n",
      "stage             1\n",
      "affected          0\n",
      "age               0\n",
      "dtype: int64\n"
     ]
    }
   ],
   "source": [
    "# Check for missing values\n",
    "missing_values = df.isnull().sum()\n",
    "print(\"Missing values per attribute:\")\n",
    "print(missing_values)"
   ]
  },
  {
   "cell_type": "code",
   "execution_count": 7,
   "id": "31c08c44",
   "metadata": {
    "execution": {
     "iopub.execute_input": "2024-03-05T17:12:49.151048Z",
     "iopub.status.busy": "2024-03-05T17:12:49.150593Z",
     "iopub.status.idle": "2024-03-05T17:12:49.184074Z",
     "shell.execute_reply": "2024-03-05T17:12:49.182009Z"
    },
    "papermill": {
     "duration": 0.043479,
     "end_time": "2024-03-05T17:12:49.187360",
     "exception": false,
     "start_time": "2024-03-05T17:12:49.143881",
     "status": "completed"
    },
    "tags": []
   },
   "outputs": [
    {
     "name": "stdout",
     "output_type": "stream",
     "text": [
      "Missing values after imputation:\n",
      "bp (Diastolic)    0\n",
      "bp limit          0\n",
      "sg                0\n",
      "al                0\n",
      "class             0\n",
      "rbc               0\n",
      "su                0\n",
      "pc                0\n",
      "pcc               0\n",
      "ba                0\n",
      "bgr               0\n",
      "bu                0\n",
      "sod               0\n",
      "sc                0\n",
      "pot               0\n",
      "hemo              0\n",
      "pcv               0\n",
      "rbcc              0\n",
      "wbcc              0\n",
      "htn               0\n",
      "dm                0\n",
      "cad               0\n",
      "appet             0\n",
      "pe                0\n",
      "ane               0\n",
      "grf               0\n",
      "stage             0\n",
      "affected          0\n",
      "age               0\n",
      "dtype: int64\n"
     ]
    },
    {
     "name": "stderr",
     "output_type": "stream",
     "text": [
      "/tmp/ipykernel_18/2546260392.py:7: FutureWarning: A value is trying to be set on a copy of a DataFrame or Series through chained assignment using an inplace method.\n",
      "The behavior will change in pandas 3.0. This inplace method will never work because the intermediate object on which we are setting values always behaves as a copy.\n",
      "\n",
      "For example, when doing 'df[col].method(value, inplace=True)', try using 'df.method({col: value}, inplace=True)' or df[col] = df[col].method(value) instead, to perform the operation inplace on the original object.\n",
      "\n",
      "\n",
      "  df[column].fillna(mode_value, inplace=True)\n"
     ]
    }
   ],
   "source": [
    "# Select only columns with discrete values\n",
    "discrete_columns = df.select_dtypes(include=['object']).columns\n",
    "\n",
    "# Impute missing values for discrete columns with the mode\n",
    "for column in discrete_columns:\n",
    "    mode_value = df[column].mode()[0]  # Calculate the mode for the column\n",
    "    df[column].fillna(mode_value, inplace=True)\n",
    "\n",
    "# Verify if there are still missing values after imputation\n",
    "missing_values_after_imputation = df.isnull().sum()\n",
    "print(\"Missing values after imputation:\")\n",
    "print(missing_values_after_imputation)"
   ]
  },
  {
   "cell_type": "code",
   "execution_count": null,
   "id": "f1437baf",
   "metadata": {
    "papermill": {
     "duration": 0.004211,
     "end_time": "2024-03-05T17:12:49.196948",
     "exception": false,
     "start_time": "2024-03-05T17:12:49.192737",
     "status": "completed"
    },
    "tags": []
   },
   "outputs": [],
   "source": []
  }
 ],
 "metadata": {
  "kaggle": {
   "accelerator": "none",
   "dataSources": [
    {
     "datasetId": 3919053,
     "sourceId": 6812597,
     "sourceType": "datasetVersion"
    }
   ],
   "dockerImageVersionId": 30664,
   "isGpuEnabled": false,
   "isInternetEnabled": true,
   "language": "python",
   "sourceType": "notebook"
  },
  "kernelspec": {
   "display_name": "Python 3",
   "language": "python",
   "name": "python3"
  },
  "language_info": {
   "codemirror_mode": {
    "name": "ipython",
    "version": 3
   },
   "file_extension": ".py",
   "mimetype": "text/x-python",
   "name": "python",
   "nbconvert_exporter": "python",
   "pygments_lexer": "ipython3",
   "version": "3.10.13"
  },
  "papermill": {
   "default_parameters": {},
   "duration": 8.627332,
   "end_time": "2024-03-05T17:12:50.031378",
   "environment_variables": {},
   "exception": null,
   "input_path": "__notebook__.ipynb",
   "output_path": "__notebook__.ipynb",
   "parameters": {},
   "start_time": "2024-03-05T17:12:41.404046",
   "version": "2.5.0"
  }
 },
 "nbformat": 4,
 "nbformat_minor": 5
}
